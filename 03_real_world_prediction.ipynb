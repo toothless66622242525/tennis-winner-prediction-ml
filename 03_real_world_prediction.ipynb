{
 "cells": [
  {
   "cell_type": "code",
   "execution_count": 1,
   "id": "f24a71e5-1243-49cf-9e0d-157b9b283130",
   "metadata": {},
   "outputs": [],
   "source": [
    "import pandas as pd\n",
    "from sklearn.compose import ColumnTransformer\n",
    "from sklearn.preprocessing import OneHotEncoder\n",
    "from sklearn.metrics import accuracy_score, confusion_matrix\n",
    "from xgboost import XGBClassifier"
   ]
  },
  {
   "cell_type": "code",
   "execution_count": 2,
   "id": "809cfda4-ca73-43d8-bf1a-d4adf5e01794",
   "metadata": {},
   "outputs": [
    {
     "name": "stdout",
     "output_type": "stream",
     "text": [
      "The prepared data has been uploaded successfully.\n"
     ]
    }
   ],
   "source": [
    "# Uploading prepared data from files\n",
    "X = pd.read_pickle('prepared_X.pkl')\n",
    "y = pd.read_pickle('prepared_y.pkl')\n",
    "print(\"The prepared data has been uploaded successfully.\")"
   ]
  },
  {
   "cell_type": "code",
   "execution_count": 3,
   "id": "bf6e96db-1076-44ef-8cf3-1e810c21be36",
   "metadata": {},
   "outputs": [],
   "source": [
    "# Finding the index of the 'Surface' column automatically\n",
    "categorical_features = ['Surface']\n",
    "categorical_indices = [X.columns.get_loc(col) for col in categorical_features]\n",
    "\n",
    "# --- Сonfiguring and train the preprocessor on the training data ---\n",
    "preprocessor = ColumnTransformer(\n",
    "    transformers=[\n",
    "        ('cat', OneHotEncoder(handle_unknown='ignore'), categorical_indices)\n",
    "    ],\n",
    "    remainder='passthrough'\n",
    ")\n",
    "\n",
    "X_encoded = preprocessor.fit_transform(X)"
   ]
  },
  {
   "cell_type": "code",
   "execution_count": 4,
   "id": "2ce00b39-e071-4437-9a18-814b6619b9fb",
   "metadata": {},
   "outputs": [
    {
     "name": "stdout",
     "output_type": "stream",
     "text": [
      "We are training the final model...\n",
      "The model is ready to work\n"
     ]
    },
    {
     "name": "stderr",
     "output_type": "stream",
     "text": [
      "C:\\ProgramData\\anaconda3\\Lib\\site-packages\\xgboost\\training.py:183: UserWarning: [22:13:59] WARNING: C:\\b\\abs_d97hy_84m6\\croot\\xgboost-split_1749630932152\\work\\src\\learner.cc:738: \n",
      "Parameters: { \"use_label_encoder\" } are not used.\n",
      "\n",
      "  bst.update(dtrain, iteration=i, fobj=obj)\n"
     ]
    }
   ],
   "source": [
    "# Slightly increased the learning_rate# \n",
    "model_xgb = XGBClassifier(n_estimators=72, learning_rate=0.009, random_state=42, use_label_encoder=False, eval_metric='logloss')\n",
    "print(\"We are training the final model...\")\n",
    "model_xgb.fit(X_encoded, y)\n",
    "print(\"The model is ready to work\")"
   ]
  },
  {
   "cell_type": "code",
   "execution_count": 5,
   "id": "2fad290f-abda-44ad-9d2d-d7878c48b026",
   "metadata": {},
   "outputs": [
    {
     "data": {
      "text/html": [
       "<div>\n",
       "<style scoped>\n",
       "    .dataframe tbody tr th:only-of-type {\n",
       "        vertical-align: middle;\n",
       "    }\n",
       "\n",
       "    .dataframe tbody tr th {\n",
       "        vertical-align: top;\n",
       "    }\n",
       "\n",
       "    .dataframe thead th {\n",
       "        text-align: right;\n",
       "    }\n",
       "</style>\n",
       "<table border=\"1\" class=\"dataframe\">\n",
       "  <thead>\n",
       "    <tr style=\"text-align: right;\">\n",
       "      <th></th>\n",
       "      <th>Rank_1</th>\n",
       "      <th>Rank_2</th>\n",
       "      <th>Pts_1</th>\n",
       "      <th>Pts_2</th>\n",
       "      <th>Rank_Difference</th>\n",
       "      <th>Pts_Difference</th>\n",
       "      <th>Surface</th>\n",
       "      <th>Odd_1</th>\n",
       "      <th>Odd_2</th>\n",
       "    </tr>\n",
       "  </thead>\n",
       "  <tbody>\n",
       "    <tr>\n",
       "      <th>0</th>\n",
       "      <td>7</td>\n",
       "      <td>16</td>\n",
       "      <td>3520</td>\n",
       "      <td>2590</td>\n",
       "      <td>-9</td>\n",
       "      <td>930</td>\n",
       "      <td>Hard</td>\n",
       "      <td>1.51</td>\n",
       "      <td>2.6</td>\n",
       "    </tr>\n",
       "  </tbody>\n",
       "</table>\n",
       "</div>"
      ],
      "text/plain": [
       "   Rank_1  Rank_2  Pts_1  Pts_2  Rank_Difference  Pts_Difference Surface  \\\n",
       "0       7      16   3520   2590               -9             930    Hard   \n",
       "\n",
       "   Odd_1  Odd_2  \n",
       "0   1.51    2.6  "
      ]
     },
     "metadata": {},
     "output_type": "display_data"
    }
   ],
   "source": [
    "# 1st is Ben Shelton, 2nd is Karen Khachanov\n",
    "rank1, rank2 = 7, 16\n",
    "pts1, pts2 = 3520, 2590\n",
    "odd1, odd2 = 1.51, 2.60\n",
    "\n",
    "# Counting derivative features\n",
    "rank_diff = rank1 - rank2\n",
    "pts_diff = pts1 - pts2\n",
    "\n",
    "# Creating a dictionary\n",
    "prediction_data = {\n",
    "    'Rank_1': [rank1],\n",
    "    'Rank_2': [rank2],\n",
    "    'Pts_1': [pts1],\n",
    "    'Pts_2': [pts2],\n",
    "    'Rank_Difference': [rank_diff],\n",
    "    'Pts_Difference': [pts_diff],\n",
    "    'Surface': ['Hard'],\n",
    "    'Odd_1': [odd1],\n",
    "    'Odd_2': [odd2]\n",
    "}\n",
    "\n",
    "# Converting into DataFrame\n",
    "X_predict = pd.DataFrame(prediction_data)\n",
    "display(X_predict) # display() will display the table beautifully."
   ]
  },
  {
   "cell_type": "code",
   "execution_count": 6,
   "id": "8d17d4b5-e8a3-468a-b03e-ce109a05fc53",
   "metadata": {},
   "outputs": [
    {
     "name": "stdout",
     "output_type": "stream",
     "text": [
      "--- CONCLUSION OF XGBoost ---\n",
      "Prediction: Player 1 WINS (Ben Shelton)\n",
      "\n",
      "Estimation of the model's confidence (Probability):\n",
      "  - Shelton's win (1): 57.82%\n",
      "  - Khachanov's win (2): 42.18%\n"
     ]
    }
   ],
   "source": [
    "# 1. Using the same preprocessor (only .transform()!)\n",
    "X_predict_encoded = preprocessor.transform(X_predict)\n",
    "\n",
    "# 2. We make a prediction and get the probabilities\n",
    "prediction_result = model_xgb.predict(X_predict_encoded)\n",
    "prediction_proba = model_xgb.predict_proba(X_predict_encoded)\n",
    "\n",
    "# 3. Displaying the results\n",
    "print(\"--- CONCLUSION OF XGBoost ---\")\n",
    "if prediction_result[0] == 1:\n",
    "    print(\"Prediction: Player 1 WINS (Ben Shelton)\")\n",
    "else:\n",
    "    print(\"Prediction: Player 2 WINS (Karen Khachanov)\")\n",
    "\n",
    "print(f\"\\nEstimation of the model's confidence (Probability):\")\n",
    "print(f\"  - Shelton's win (1): {prediction_proba[0][1]:.2%}\")\n",
    "print(f\"  - Khachanov's win (2): {prediction_proba[0][0]:.2%}\")"
   ]
  },
  {
   "cell_type": "code",
   "execution_count": null,
   "id": "01de045c-9df7-4653-bd3f-b7dada2e73b5",
   "metadata": {},
   "outputs": [],
   "source": []
  }
 ],
 "metadata": {
  "kernelspec": {
   "display_name": "Python [conda env:base] *",
   "language": "python",
   "name": "conda-base-py"
  },
  "language_info": {
   "codemirror_mode": {
    "name": "ipython",
    "version": 3
   },
   "file_extension": ".py",
   "mimetype": "text/x-python",
   "name": "python",
   "nbconvert_exporter": "python",
   "pygments_lexer": "ipython3",
   "version": "3.13.5"
  }
 },
 "nbformat": 4,
 "nbformat_minor": 5
}
