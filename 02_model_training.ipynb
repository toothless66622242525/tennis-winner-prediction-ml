{
 "cells": [
  {
   "cell_type": "code",
   "execution_count": 1,
   "id": "adcef042-e8d4-4669-86a5-f98aa6756818",
   "metadata": {},
   "outputs": [],
   "source": [
    "import pandas as pd\n",
    "import matplotlib.pyplot as plt\n",
    "import seaborn as sns\n",
    "from sklearn.compose import ColumnTransformer\n",
    "from sklearn.preprocessing import OneHotEncoder\n",
    "from sklearn.model_selection import train_test_split\n",
    "from sklearn.metrics import accuracy_score, confusion_matrix\n",
    "from sklearn.tree import DecisionTreeClassifier, plot_tree\n",
    "from sklearn.linear_model import LogisticRegression\n",
    "from xgboost import XGBClassifier"
   ]
  },
  {
   "cell_type": "code",
   "execution_count": 2,
   "id": "5087a4c4-754b-4fb6-b402-d0c95aa2147b",
   "metadata": {},
   "outputs": [
    {
     "name": "stdout",
     "output_type": "stream",
     "text": [
      "The prepared data has been uploaded successfully.\n"
     ]
    }
   ],
   "source": [
    "# Uploading prepared data from files\n",
    "X = pd.read_pickle('prepared_X.pkl')\n",
    "y = pd.read_pickle('prepared_y.pkl')\n",
    "print(\"The prepared data has been uploaded successfully.\")"
   ]
  },
  {
   "cell_type": "code",
   "execution_count": 3,
   "id": "0b6d0552-9eb0-4d73-9812-688b019b94e6",
   "metadata": {},
   "outputs": [],
   "source": [
    "x_train, x_test, y_train, y_test = train_test_split(X, y, test_size=0.2, random_state=42)"
   ]
  },
  {
   "cell_type": "code",
   "execution_count": 4,
   "id": "3168a6b5-1a41-42a0-ac9c-54ba433b68ff",
   "metadata": {},
   "outputs": [],
   "source": [
    "# Finding the index of the 'Surface' column automatically\n",
    "categorical_features = ['Surface']\n",
    "categorical_indices = [X.columns.get_loc(col) for col in categorical_features]\n",
    "\n",
    "# --- Сonfiguring and train the preprocessor on the training data ---\n",
    "preprocessor = ColumnTransformer(\n",
    "    transformers=[\n",
    "        ('cat', OneHotEncoder(handle_unknown='ignore'), categorical_indices)\n",
    "    ],\n",
    "    remainder='passthrough'\n",
    ")\n",
    "\n",
    "x_train_encoded = preprocessor.fit_transform(x_train)\n",
    "x_test_encoded = preprocessor.transform(x_test)"
   ]
  },
  {
   "cell_type": "code",
   "execution_count": 5,
   "id": "8a3f7dd9-6f61-4973-9094-b36b57c6cc12",
   "metadata": {},
   "outputs": [
    {
     "name": "stdout",
     "output_type": "stream",
     "text": [
      "The accuracy of the Logistic Regression model is: 0.6973\n"
     ]
    }
   ],
   "source": [
    "# --- 5.1. Model Training: Logistic Regression (Baseline) ---\n",
    "\n",
    "# We start with a simple linear model as our baseline. \n",
    "# This gives us a starting point to see if more complex models provide any benefit.\n",
    "\n",
    "# 1. Initialize the model\n",
    "# We use max_iter=1000 to ensure the model has enough iterations to converge.\n",
    "model_lr = LogisticRegression(max_iter=1000, random_state=42)\n",
    "\n",
    "# 2. Train the model on the encoded training data\n",
    "model_lr.fit(x_train_encoded, y_train)\n",
    "\n",
    "# 3. Make predictions on the unseen test data\n",
    "predictions_lr = model_lr.predict(x_test_encoded)\n",
    "\n",
    "# 4. Evaluate the model's performance\n",
    "accuracy_lr = accuracy_score(y_test, predictions_lr)\n",
    "\n",
    "print(f\"The accuracy of the Logistic Regression model is: {accuracy_lr:.4f}\")"
   ]
  },
  {
   "cell_type": "code",
   "execution_count": 6,
   "id": "79e093a9-c805-4431-b133-829e0abbc1f3",
   "metadata": {},
   "outputs": [
    {
     "name": "stdout",
     "output_type": "stream",
     "text": [
      "The accuracy of the Decision Tree model is: 0.6982\n"
     ]
    }
   ],
   "source": [
    "# --- 5.2. Model Training: Decision Tree Classifier --\n",
    "\n",
    "# 1. Initialize the model\n",
    "# We set max_depth=4 to prevent overfitting and random_state for reproducibility.\n",
    "model_tree = DecisionTreeClassifier(max_depth=4, random_state=42)\n",
    "\n",
    "# 2. Train the model on the encoded training data\n",
    "model_tree.fit(x_train_encoded, y_train)\n",
    "\n",
    "# 3. Make predictions on the unseen test data\n",
    "predictions_tree = model_tree.predict(x_test_encoded)\n",
    "\n",
    "# 4. Evaluate the model's performance\n",
    "accuracy_tree = accuracy_score(y_test, predictions_tree)\n",
    "\n",
    "print(f\"The accuracy of the Decision Tree model is: {accuracy_tree:.4f}\")"
   ]
  },
  {
   "cell_type": "code",
   "execution_count": 7,
   "id": "01524c3c-0a4f-41cb-a2ec-14999f5ac80e",
   "metadata": {},
   "outputs": [
    {
     "name": "stdout",
     "output_type": "stream",
     "text": [
      "The accuracy of the XGBoost model is: 0.7002\n"
     ]
    },
    {
     "name": "stderr",
     "output_type": "stream",
     "text": [
      "C:\\ProgramData\\anaconda3\\Lib\\site-packages\\xgboost\\training.py:183: UserWarning: [01:41:57] WARNING: C:\\b\\abs_d97hy_84m6\\croot\\xgboost-split_1749630932152\\work\\src\\learner.cc:738: \n",
      "Parameters: { \"use_label_encoder\" } are not used.\n",
      "\n",
      "  bst.update(dtrain, iteration=i, fobj=obj)\n"
     ]
    }
   ],
   "source": [
    "# --- 5.3. Model Training: XGBoost Classifier ---\n",
    "\n",
    "# Finally, we test a powerful gradient boosting model, which is often a top performer \n",
    "# on tabular data. This will show us the potential \"ceiling\" of performance with our current features.\n",
    "\n",
    "# 1. Initialize the model\n",
    "# We set key hyperparameters like n_estimators and learning_rate for control.\n",
    "# `eval_metric` is set to 'logloss' for better internal evaluation during training.\n",
    "model_xgb = XGBClassifier(n_estimators=72, learning_rate=0.006, random_state=42, use_label_encoder=False, eval_metric='logloss')\n",
    "\n",
    "# 2. Train the model on the encoded training data\n",
    "model_xgb.fit(x_train_encoded, y_train)\n",
    "\n",
    "# 3. Make predictions on the unseen test data\n",
    "predictions_xgb = model_xgb.predict(x_test_encoded)\n",
    "\n",
    "# 4. Evaluate the model's performance\n",
    "accuracy_xgb = accuracy_score(y_test, predictions_xgb)\n",
    "\n",
    "print(f\"The accuracy of the XGBoost model is: {accuracy_xgb:.4f}\")"
   ]
  },
  {
   "cell_type": "code",
   "execution_count": 8,
   "id": "e320b6b4-599a-40b3-9f20-cfaecd6fb535",
   "metadata": {},
   "outputs": [
    {
     "name": "stdout",
     "output_type": "stream",
     "text": [
      "[[3552 1507]\n",
      " [1505 3483]]\n"
     ]
    }
   ],
   "source": [
    "cm = confusion_matrix(predictions_xgb, y_test)\n",
    "print(cm)"
   ]
  },
  {
   "cell_type": "code",
   "execution_count": 9,
   "id": "c20d7915-29d7-4f64-98fb-e33fd5040e8a",
   "metadata": {},
   "outputs": [
    {
     "data": {
      "text/plain": [
       "Text(45.722222222222214, 0.5, 'Actual results')"
      ]
     },
     "execution_count": 9,
     "metadata": {},
     "output_type": "execute_result"
    },
    {
     "data": {
      "image/png": "[encoded data removed]",
      "text/plain": [
       "<Figure size 600x400 with 2 Axes>"
      ]
     },
     "metadata": {},
     "output_type": "display_data"
    }
   ],
   "source": [
    "plt.figure(figsize=(6,4))\n",
    "sns.heatmap(cm, annot=True, fmt='d', cmap='Purples')\n",
    "plt.xlabel('Prediction')\n",
    "plt.ylabel('Actual results')\n"
   ]
  }
 ],
 "metadata": {
  "kernelspec": {
   "display_name": "Python [conda env:base] *",
   "language": "python",
   "name": "conda-base-py"
  },
  "language_info": {
   "codemirror_mode": {
    "name": "ipython",
    "version": 3
   },
   "file_extension": ".py",
   "mimetype": "text/x-python",
   "name": "python",
   "nbconvert_exporter": "python",
   "pygments_lexer": "ipython3",
   "version": "3.13.5"
  }
 },
 "nbformat": 4,
 "nbformat_minor": 5
}
